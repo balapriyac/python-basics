{
  "nbformat": 4,
  "nbformat_minor": 0,
  "metadata": {
    "colab": {
      "provenance": []
    },
    "kernelspec": {
      "name": "python3",
      "display_name": "Python 3"
    },
    "language_info": {
      "name": "python"
    }
  },
  "cells": [
    {
      "cell_type": "code",
      "source": [
        "! pip install pydantic"
      ],
      "metadata": {
        "colab": {
          "base_uri": "https://localhost:8080/"
        },
        "id": "gqc_018jAUvU",
        "outputId": "cf273dd5-dda7-499b-c5f2-b0cc4b4b70e7"
      },
      "execution_count": null,
      "outputs": [
        {
          "output_type": "stream",
          "name": "stdout",
          "text": [
            "Requirement already satisfied: pydantic in /usr/local/lib/python3.12/dist-packages (2.11.9)\n",
            "Requirement already satisfied: annotated-types>=0.6.0 in /usr/local/lib/python3.12/dist-packages (from pydantic) (0.7.0)\n",
            "Requirement already satisfied: pydantic-core==2.33.2 in /usr/local/lib/python3.12/dist-packages (from pydantic) (2.33.2)\n",
            "Requirement already satisfied: typing-extensions>=4.12.2 in /usr/local/lib/python3.12/dist-packages (from pydantic) (4.15.0)\n",
            "Requirement already satisfied: typing-inspection>=0.4.0 in /usr/local/lib/python3.12/dist-packages (from pydantic) (0.4.2)\n"
          ]
        }
      ]
    },
    {
      "cell_type": "code",
      "execution_count": null,
      "metadata": {
        "colab": {
          "base_uri": "https://localhost:8080/"
        },
        "id": "_guhjdyxARBz",
        "outputId": "bbdc1a9a-9049-49a2-cdad-2015701de024"
      },
      "outputs": [
        {
          "output_type": "stream",
          "name": "stdout",
          "text": [
            "25\n",
            "<class 'int'>\n"
          ]
        }
      ],
      "source": [
        "from pydantic import BaseModel\n",
        "\n",
        "class User(BaseModel):\n",
        "    name: str\n",
        "    age: int\n",
        "    email: str\n",
        "# Create a user\n",
        "user = User(name=\"Alice\", age=\"25\", email=\"alice@example.com\")\n",
        "print(user.age)\n",
        "print(type(user.age))"
      ]
    },
    {
      "cell_type": "code",
      "source": [
        "from pydantic import BaseModel, Field\n",
        "from typing import Optional\n",
        "\n",
        "class Product(BaseModel):\n",
        "    name: str\n",
        "    price: float\n",
        "    description: Optional[str] = None\n",
        "    in_stock: bool = True\n",
        "    category: str = Field(default=\"general\", min_length=1)\n",
        "\n",
        "# All these work\n",
        "product1 = Product(name=\"Widget\", price=9.99)\n",
        "product2 = Product(name=\"Gadget\", price=15.50, description=\"Useful tool\")\n"
      ],
      "metadata": {
        "id": "pvLANPLxAku1"
      },
      "execution_count": null,
      "outputs": []
    },
    {
      "cell_type": "code",
      "source": [
        "from pydantic import BaseModel, field_validator\n",
        "import re\n",
        "\n",
        "class Account(BaseModel):\n",
        "    username: str\n",
        "    email: str\n",
        "    password: str\n",
        "\n",
        "    @field_validator('username')\n",
        "    def validate_username(cls, v):\n",
        "        if len(v) < 3:\n",
        "            raise ValueError('Username must be at least 3 characters')\n",
        "        if not v.isalnum():\n",
        "            raise ValueError('Username must be alphanumeric')\n",
        "        return v.lower()  # Normalize to lowercase\n",
        "\n",
        "    @field_validator('email')\n",
        "    def validate_email(cls, v):\n",
        "        pattern = r'^[\\w\\.-]+@[\\w\\.-]+\\.\\w+$'\n",
        "        if not re.match(pattern, v):\n",
        "            raise ValueError('Invalid email format')\n",
        "        return v\n",
        "\n",
        "    @field_validator('password')\n",
        "    def validate_password(cls, v):\n",
        "        if len(v) < 8:\n",
        "            raise ValueError('Password must be at least 8 characters')\n",
        "        return v\n",
        "\n",
        "account = Account(\n",
        "    username=\"JohnDoe123\",\n",
        "    email=\"john@example.com\",\n",
        "    password=\"secretpass123\"\n",
        ")\n"
      ],
      "metadata": {
        "id": "zTv8NSFNApKb"
      },
      "execution_count": null,
      "outputs": []
    },
    {
      "cell_type": "code",
      "source": [
        "from pydantic import BaseModel\n",
        "from typing import List, Optional\n",
        "from datetime import datetime\n",
        "\n",
        "class Address(BaseModel):\n",
        "    street: str\n",
        "    city: str\n",
        "    state: str\n",
        "    zip_code: str\n",
        "\n",
        "    @field_validator('zip_code')\n",
        "    def validate_zip(cls, v):\n",
        "        if not v.isdigit() or len(v) != 5:\n",
        "            raise ValueError('ZIP code must be 5 digits')\n",
        "        return v\n",
        "\n",
        "class Contact(BaseModel):\n",
        "    name: str\n",
        "    phone: str\n",
        "    email: Optional[str] = None\n",
        "\n",
        "class Company(BaseModel):\n",
        "    name: str\n",
        "    founded: datetime\n",
        "    address: Address\n",
        "    contacts: List[Contact]\n",
        "    employee_count: int\n",
        "    is_public: bool = False\n",
        "\n",
        "# Complex nested data gets fully validated\n",
        "company_data = {\n",
        "    \"name\": \"Tech Corp\",\n",
        "    \"founded\": \"2020-01-15T10:00:00\",\n",
        "    \"address\": {\n",
        "        \"street\": \"123 Main St\",\n",
        "        \"city\": \"San Francisco\",\n",
        "        \"state\": \"CA\",\n",
        "        \"zip_code\": \"94105\"\n",
        "    },\n",
        "    \"contacts\": [\n",
        "        {\"name\": \"John Smith\", \"phone\": \"555-0123\"},\n",
        "        {\"name\": \"Jane Doe\", \"phone\": \"555-0456\", \"email\": \"jane@techcorp.com\"}\n",
        "    ],\n",
        "    \"employee_count\": 150\n",
        "}\n",
        "\n",
        "company = Company(**company_data)\n",
        "company"
      ],
      "metadata": {
        "colab": {
          "base_uri": "https://localhost:8080/"
        },
        "id": "XPtSL7ylAuW7",
        "outputId": "fb41c386-2397-4cba-aa74-35242f49311a"
      },
      "execution_count": null,
      "outputs": [
        {
          "output_type": "execute_result",
          "data": {
            "text/plain": [
              "Company(name='Tech Corp', founded=datetime.datetime(2020, 1, 15, 10, 0), address=Address(street='123 Main St', city='San Francisco', state='CA', zip_code='94105'), contacts=[Contact(name='John Smith', phone='555-0123', email=None), Contact(name='Jane Doe', phone='555-0456', email='jane@techcorp.com')], employee_count=150, is_public=False)"
            ]
          },
          "metadata": {},
          "execution_count": 10
        }
      ]
    },
    {
      "cell_type": "code",
      "source": [
        "from pydantic import BaseModel, Field, field_validator\n",
        "from typing import Union, Optional\n",
        "from datetime import datetime\n",
        "import json\n",
        "\n",
        "class APIResponse(BaseModel):\n",
        "    status: str\n",
        "    message: Optional[str] = None\n",
        "    data: Optional[dict] = None\n",
        "    timestamp: datetime = Field(default_factory=datetime.now)\n",
        "\n",
        "class UserProfile(BaseModel):\n",
        "    id: int\n",
        "    username: str\n",
        "    full_name: Optional[str] = None\n",
        "    age: Optional[int] = Field(None, ge=0, le=150)  # Age constraints\n",
        "    created_at: Union[datetime, str]  # Handle multiple formats\n",
        "    is_verified: bool = False\n",
        "\n",
        "    @field_validator('created_at', mode='before')\n",
        "    def parse_created_at(cls, v):\n",
        "        if isinstance(v, str):\n",
        "            try:\n",
        "                return datetime.fromisoformat(v.replace('Z', '+00:00'))\n",
        "            except ValueError:\n",
        "                raise ValueError('Invalid datetime format')\n",
        "        return v\n",
        "\n",
        "# Simulate API response\n",
        "api_json = '''\n",
        "{\n",
        "    \"status\": \"success\",\n",
        "    \"data\": {\n",
        "        \"id\": 123,\n",
        "        \"username\": \"alice_dev\",\n",
        "        \"full_name\": \"Alice Johnson\",\n",
        "        \"age\": \"28\",\n",
        "        \"created_at\": \"2023-01-15T10:30:00Z\",\n",
        "        \"is_verified\": true\n",
        "    }\n",
        "}\n",
        "'''\n",
        "\n",
        "response_data = json.loads(api_json)\n",
        "api_response = APIResponse(**response_data)\n",
        "\n",
        "if api_response.data:\n",
        "    user = UserProfile(**api_response.data)\n",
        "    print(f\"User {user.username} created at {user.created_at}\")"
      ],
      "metadata": {
        "colab": {
          "base_uri": "https://localhost:8080/"
        },
        "id": "zocEMO1JAz8E",
        "outputId": "e2be21d8-9521-4eef-e02b-7ab2c896f5f0"
      },
      "execution_count": null,
      "outputs": [
        {
          "output_type": "stream",
          "name": "stdout",
          "text": [
            "User alice_dev created at 2023-01-15 10:30:00+00:00\n"
          ]
        }
      ]
    },
    {
      "cell_type": "code",
      "source": [
        "from pydantic import BaseModel, ValidationError\n",
        "from typing import List\n",
        "\n",
        "class Order(BaseModel):\n",
        "    order_id: int\n",
        "    customer_email: str\n",
        "    items: List[str]\n",
        "    total: float\n",
        "\n",
        "    @field_validator('total')\n",
        "    def positive_total(cls, v):\n",
        "        if v <= 0:\n",
        "            raise ValueError('Total must be positive')\n",
        "        return v\n",
        "\n",
        "# Invalid data\n",
        "bad_data = {\n",
        "    \"order_id\": \"not_a_number\",\n",
        "    \"customer_email\": \"invalid_email\",\n",
        "    \"items\": \"should_be_list\",\n",
        "    \"total\": -10.50\n",
        "}\n",
        "\n",
        "try:\n",
        "    order = Order(**bad_data)\n",
        "except ValidationError as e:\n",
        "    print(\"Validation errors:\")\n",
        "    for error in e.errors():\n",
        "        field = error['loc'][0]\n",
        "        message = error['msg']\n",
        "        print(f\"  {field}: {message}\")\n",
        "\n",
        "    # Get JSON representation of errors\n",
        "    print(\"\\nJSON errors:\")\n",
        "    print(e.json(indent=2))\n"
      ],
      "metadata": {
        "colab": {
          "base_uri": "https://localhost:8080/"
        },
        "id": "wapk0QxGA-ZE",
        "outputId": "f6cb7aa5-acce-4f56-f80a-9f2d07366443"
      },
      "execution_count": null,
      "outputs": [
        {
          "output_type": "stream",
          "name": "stdout",
          "text": [
            "Validation errors:\n",
            "  order_id: Input should be a valid integer, unable to parse string as an integer\n",
            "  items: Input should be a valid list\n",
            "  total: Value error, Total must be positive\n",
            "\n",
            "JSON errors:\n",
            "[\n",
            "  {\n",
            "    \"type\": \"int_parsing\",\n",
            "    \"loc\": [\n",
            "      \"order_id\"\n",
            "    ],\n",
            "    \"msg\": \"Input should be a valid integer, unable to parse string as an integer\",\n",
            "    \"input\": \"not_a_number\",\n",
            "    \"url\": \"https://errors.pydantic.dev/2.11/v/int_parsing\"\n",
            "  },\n",
            "  {\n",
            "    \"type\": \"list_type\",\n",
            "    \"loc\": [\n",
            "      \"items\"\n",
            "    ],\n",
            "    \"msg\": \"Input should be a valid list\",\n",
            "    \"input\": \"should_be_list\",\n",
            "    \"url\": \"https://errors.pydantic.dev/2.11/v/list_type\"\n",
            "  },\n",
            "  {\n",
            "    \"type\": \"value_error\",\n",
            "    \"loc\": [\n",
            "      \"total\"\n",
            "    ],\n",
            "    \"msg\": \"Value error, Total must be positive\",\n",
            "    \"input\": -10.5,\n",
            "    \"ctx\": {\n",
            "      \"error\": \"Total must be positive\"\n",
            "    },\n",
            "    \"url\": \"https://errors.pydantic.dev/2.11/v/value_error\"\n",
            "  }\n",
            "]\n"
          ]
        }
      ]
    },
    {
      "cell_type": "code",
      "source": [
        "from pydantic import BaseModel\n",
        "from datetime import datetime\n",
        "\n",
        "class Event(BaseModel):\n",
        "    name: str\n",
        "    date: datetime\n",
        "    attendees: int\n",
        "    is_public: bool = True\n",
        "\n",
        "event = Event(\n",
        "    name=\"Python Meetup\",\n",
        "    date=datetime(2024, 3, 15, 18, 30),\n",
        "    attendees=45\n",
        ")\n",
        "\n",
        "# Export to dictionary\n",
        "event_dict = event.model_dump()\n",
        "print(event_dict)\n",
        "\n",
        "# Export to JSON string\n",
        "event_json = event.model_dump_json()\n",
        "print(event_json)\n",
        "\n",
        "# Export with exclusions\n",
        "public_data = event.model_dump(exclude={'attendees'})\n",
        "print(public_data)\n",
        "\n",
        "# Export with custom serialization\n",
        "formatted_json = event.model_dump_json(indent=2)\n",
        "print(formatted_json)"
      ],
      "metadata": {
        "id": "kE8KMUO6Bzph",
        "colab": {
          "base_uri": "https://localhost:8080/"
        },
        "outputId": "0bdb7cbf-2204-4954-a401-b96722d65b0f"
      },
      "execution_count": 18,
      "outputs": [
        {
          "output_type": "stream",
          "name": "stdout",
          "text": [
            "{'name': 'Python Meetup', 'date': datetime.datetime(2024, 3, 15, 18, 30), 'attendees': 45, 'is_public': True}\n",
            "{\"name\":\"Python Meetup\",\"date\":\"2024-03-15T18:30:00\",\"attendees\":45,\"is_public\":true}\n",
            "{'name': 'Python Meetup', 'date': datetime.datetime(2024, 3, 15, 18, 30), 'is_public': True}\n",
            "{\n",
            "  \"name\": \"Python Meetup\",\n",
            "  \"date\": \"2024-03-15T18:30:00\",\n",
            "  \"attendees\": 45,\n",
            "  \"is_public\": true\n",
            "}\n"
          ]
        }
      ]
    },
    {
      "cell_type": "code",
      "source": [],
      "metadata": {
        "id": "XHdmA9QsClpg"
      },
      "execution_count": null,
      "outputs": []
    }
  ]
}