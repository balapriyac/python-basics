{
  "nbformat": 4,
  "nbformat_minor": 0,
  "metadata": {
    "colab": {
      "provenance": []
    },
    "kernelspec": {
      "name": "python3",
      "display_name": "Python 3"
    },
    "language_info": {
      "name": "python"
    }
  },
  "cells": [
    {
      "cell_type": "code",
      "execution_count": null,
      "metadata": {
        "colab": {
          "base_uri": "https://localhost:8080/"
        },
        "id": "WJBNq9MCNFre",
        "outputId": "81c17ab4-8692-4218-f6f1-167c1724784e"
      },
      "outputs": [
        {
          "output_type": "stream",
          "name": "stdout",
          "text": [
            "Application: My Application\n",
            "Database: localhost:5432\n",
            "Config keys: dict_keys(['title', 'version', 'database', 'server', 'logging', 'cache', 'features'])\n"
          ]
        }
      ],
      "source": [
        "import tomllib\n",
        "\n",
        "with open('config.toml', 'rb') as f:\n",
        "    config = tomllib.load(f)\n",
        "\n",
        "# Access values\n",
        "app_title = config['title']\n",
        "db_host = config['database']['host']\n",
        "db_port = config['database']['port']\n",
        "\n",
        "print(f\"Application: {app_title}\")\n",
        "print(f\"Database: {db_host}:{db_port}\")\n",
        "print(f\"Config keys: {config.keys()}\")\n"
      ]
    },
    {
      "cell_type": "code",
      "source": [
        "with open('config.toml', 'rb') as f:\n",
        "    config = tomllib.load(f)\n",
        "\n",
        "# Strings\n",
        "app_title = config['title']\n",
        "\n",
        "# Integers\n",
        "db_port = config['database']['port']\n",
        "cache_ttl = config['cache']['ttl']\n",
        "\n",
        "# Booleans\n",
        "debug_mode = config['server']['debug']\n",
        "cache_enabled = config['cache']['enabled']\n",
        "\n",
        "# Arrays (become Python lists)\n",
        "databases = config['database']['databases']\n",
        "allowed_hosts = config['server']['allowed_hosts']\n",
        "\n",
        "print(f\"Databases: {databases}\")\n",
        "print(f\"Type of databases: {type(databases)}\")\n",
        "print(f\"Debug mode: {debug_mode}, type: {type(debug_mode)}\")\n",
        "\n"
      ],
      "metadata": {
        "colab": {
          "base_uri": "https://localhost:8080/"
        },
        "id": "6DlJ0wFUNZSy",
        "outputId": "b06e4320-bd17-4b5b-83ae-2388a7855abd"
      },
      "execution_count": null,
      "outputs": [
        {
          "output_type": "stream",
          "name": "stdout",
          "text": [
            "Databases: ['myapp_db', 'myapp_cache']\n",
            "Type of databases: <class 'list'>\n",
            "Debug mode: False, type: <class 'bool'>\n"
          ]
        }
      ]
    },
    {
      "cell_type": "code",
      "source": [
        "from pathlib import Path\n",
        "\n",
        "class TOMLConfig:\n",
        "    def __init__(self, config_file='config.toml'):\n",
        "        self.config_file = Path(config_file)\n",
        "\n",
        "        if not self.config_file.exists():\n",
        "            raise FileNotFoundError(f\"Config file not found: {config_file}\")\n",
        "\n",
        "        with open(self.config_file, 'rb') as f:\n",
        "            self.config = tomllib.load(f)\n",
        "\n",
        "    def get(self, key, default=None):\n",
        "        \"\"\"Get a top-level configuration value\"\"\"\n",
        "        return self.config.get(key, default)\n",
        "\n",
        "    def get_section(self, section):\n",
        "        \"\"\"Get an entire configuration section\"\"\"\n",
        "        if section not in self.config:\n",
        "            raise ValueError(f\"Section '{section}' not found\")\n",
        "        return self.config[section]\n"
      ],
      "metadata": {
        "id": "uwkSnCCfNmMb"
      },
      "execution_count": null,
      "outputs": []
    },
    {
      "cell_type": "code",
      "source": [
        "config = TOMLConfig('config.toml')\n",
        "\n",
        "# Get top-level values\n",
        "app_title = config.get('title')\n",
        "version = config.get('version')\n",
        "\n",
        "# Get entire sections\n",
        "db_config = config.get_section('database')\n",
        "server_config = config.get_section('server')\n",
        "\n",
        "print(f\"{app_title} v{version}\")\n",
        "print(f\"Database config: {db_config}\")\n"
      ],
      "metadata": {
        "colab": {
          "base_uri": "https://localhost:8080/"
        },
        "id": "OVrzum5vN0IZ",
        "outputId": "3462b8e7-9001-4a9e-c287-3520ddef6a6f"
      },
      "execution_count": null,
      "outputs": [
        {
          "output_type": "stream",
          "name": "stdout",
          "text": [
            "My Application v1.0.0\n",
            "Database config: {'host': 'localhost', 'port': 5432, 'username': 'app_user', 'password': 'secure_password', 'databases': ['myapp_db', 'myapp_cache'], 'pool_size': 10, 'ssl_enabled': True}\n"
          ]
        }
      ]
    },
    {
      "cell_type": "code",
      "source": [
        "# Sample nested TOML structure\n",
        "toml_content = \"\"\"\n",
        "[database.primary]\n",
        "host = \"db1.example.com\"\n",
        "port = 5432\n",
        "\n",
        "[database.replica]\n",
        "host = \"db2.example.com\"\n",
        "port = 5432\n",
        "\n",
        "[api.v1]\n",
        "enabled = true\n",
        "rate_limit = 100\n",
        "\n",
        "[api.v2]\n",
        "enabled = false\n",
        "rate_limit = 200\n",
        "\"\"\"\n"
      ],
      "metadata": {
        "id": "KJc3WK9SN01F"
      },
      "execution_count": null,
      "outputs": []
    },
    {
      "cell_type": "code",
      "source": [
        "config = tomllib.loads(toml_content)\n",
        "\n",
        "# Access nested values\n",
        "primary_host = config['database']['primary']['host']\n",
        "v1_rate_limit = config['api']['v1']['rate_limit']\n",
        "\n",
        "print(f\"Primary DB: {primary_host}\")\n",
        "print(f\"API v1 rate limit: {v1_rate_limit}\")\n"
      ],
      "metadata": {
        "colab": {
          "base_uri": "https://localhost:8080/"
        },
        "id": "HpIMYl6tOBSu",
        "outputId": "9b1837f8-2d5a-4ae9-f87d-7d92566e08c0"
      },
      "execution_count": null,
      "outputs": [
        {
          "output_type": "stream",
          "name": "stdout",
          "text": [
            "Primary DB: db1.example.com\n",
            "API v1 rate limit: 100\n"
          ]
        }
      ]
    },
    {
      "cell_type": "code",
      "source": [
        "def load_config_safe(config_file='config.toml'):\n",
        "    try:\n",
        "        with open(config_file, 'rb') as f:\n",
        "            return tomllib.load(f)\n",
        "    except FileNotFoundError:\n",
        "        print(f\"Config file {config_file} not found, using defaults\")\n",
        "        return {}\n",
        "    except tomllib.TOMLDecodeError as e:\n",
        "        print(f\"Error parsing TOML: {e}\")\n",
        "        raise\n",
        "\n",
        "config = load_config_safe('config.toml')\n",
        "\n",
        "# Get with defaults\n",
        "db_host = config.get('database', {}).get('host', 'localhost')\n",
        "db_port = config.get('database', {}).get('port', 5432)\n",
        "debug = config.get('server', {}).get('debug', False)\n",
        "\n",
        "print(f\"Database: {db_host}:{db_port}\")\n",
        "print(f\"Debug: {debug}\")\n"
      ],
      "metadata": {
        "colab": {
          "base_uri": "https://localhost:8080/"
        },
        "id": "5r7SH_WVOEYK",
        "outputId": "aa8df044-f411-4e1c-fb25-d23347be6f52"
      },
      "execution_count": null,
      "outputs": [
        {
          "output_type": "stream",
          "name": "stdout",
          "text": [
            "Database: localhost:5432\n",
            "Debug: False\n"
          ]
        }
      ]
    },
    {
      "cell_type": "code",
      "source": [],
      "metadata": {
        "id": "t5wK6ZcSOL3f"
      },
      "execution_count": null,
      "outputs": []
    }
  ]
}