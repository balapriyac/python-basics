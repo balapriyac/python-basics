{
  "nbformat": 4,
  "nbformat_minor": 0,
  "metadata": {
    "colab": {
      "provenance": []
    },
    "kernelspec": {
      "name": "python3",
      "display_name": "Python 3"
    },
    "language_info": {
      "name": "python"
    }
  },
  "cells": [
    {
      "cell_type": "code",
      "execution_count": null,
      "metadata": {
        "colab": {
          "base_uri": "https://localhost:8080/"
        },
        "id": "p2PmfR0zTYC-",
        "outputId": "05dee699-3c62-4ea0-9c03-836fad16bead"
      },
      "outputs": [
        {
          "output_type": "stream",
          "name": "stdout",
          "text": [
            "Database: localhost:5432\n",
            "Sections: ['database', 'server', 'logging']\n"
          ]
        }
      ],
      "source": [
        "import configparser\n",
        "\n",
        "config = configparser.ConfigParser()\n",
        "config.read('/content/app.ini')\n",
        "\n",
        "# Access values from sections\n",
        "db_host = config['database']['host']\n",
        "db_port = config['database']['port']\n",
        "\n",
        "print(f\"Database: {db_host}:{db_port}\")\n",
        "print(f\"Sections: {config.sections()}\")\n"
      ]
    },
    {
      "cell_type": "code",
      "source": [
        "import configparser\n",
        "\n",
        "config = configparser.ConfigParser()\n",
        "config.read('app.ini')\n",
        "\n",
        "# Automatic type conversion\n",
        "db_port = config.getint('database', 'port')\n",
        "ssl_enabled = config.getboolean('database', 'ssl_enabled')\n",
        "\n",
        "# With fallback defaults\n",
        "max_retries = config.getint('database', 'max_retries', fallback=3)\n",
        "timeout = config.getfloat('database', 'timeout', fallback=30.0)\n",
        "\n",
        "print(f\"Port: {db_port}, SSL: {ssl_enabled}\")\n"
      ],
      "metadata": {
        "colab": {
          "base_uri": "https://localhost:8080/"
        },
        "id": "QplH0p1lTqxs",
        "outputId": "206fd46b-bc55-4770-9856-bfbad12fa3d3"
      },
      "execution_count": null,
      "outputs": [
        {
          "output_type": "stream",
          "name": "stdout",
          "text": [
            "Port: 5432, SSL: True\n"
          ]
        }
      ]
    },
    {
      "cell_type": "code",
      "source": [
        "import configparser\n",
        "from pathlib import Path\n",
        "\n",
        "class ConfigManager:\n",
        "    def __init__(self, config_file='app.ini'):\n",
        "        self.config = configparser.ConfigParser()\n",
        "\n",
        "        if not Path(config_file).exists():\n",
        "            raise FileNotFoundError(f\"Config file not found: {config_file}\")\n",
        "\n",
        "        self.config.read(config_file)\n",
        "\n",
        "    def get_database_config(self):\n",
        "        db = self.config['database']\n",
        "        return {\n",
        "            'host': db.get('host'),\n",
        "            'port': db.getint('port'),\n",
        "            'username': db.get('username'),\n",
        "            'password': db.get('password'),\n",
        "            'pool_size': db.getint('pool_size', fallback=5)\n",
        "        }\n"
      ],
      "metadata": {
        "id": "-TYI7bDYT5yO"
      },
      "execution_count": null,
      "outputs": []
    },
    {
      "cell_type": "code",
      "source": [
        "config = ConfigManager('app.ini')\n",
        "db_config = config.get_database_config()\n",
        "print(db_config)\n"
      ],
      "metadata": {
        "id": "Y0_DGe2hUVtX",
        "outputId": "3ff5479d-e7ed-40ac-882e-ef248f0a2afa",
        "colab": {
          "base_uri": "https://localhost:8080/"
        }
      },
      "execution_count": null,
      "outputs": [
        {
          "output_type": "stream",
          "name": "stdout",
          "text": [
            "{'host': 'localhost', 'port': 5432, 'username': 'app_user', 'password': 'secure_password', 'pool_size': 10}\n"
          ]
        }
      ]
    },
    {
      "cell_type": "code",
      "source": [
        "import configparser\n",
        "\n",
        "config = configparser.ConfigParser()\n",
        "config.read('app.ini')\n",
        "\n",
        "# Get all options in a section as a dictionary\n",
        "db_settings = dict(config['database'])\n",
        "server_settings = dict(config['server'])\n",
        "\n",
        "# Check if a section exists\n",
        "if config.has_section('cache'):\n",
        "    cache_enabled = config.getboolean('cache', 'enabled')\n",
        "else:\n",
        "    cache_enabled = False\n",
        "\n",
        "print(f\"Database settings: {db_settings}\")\n",
        "print(f\"Caching enabled: {cache_enabled}\")\n"
      ],
      "metadata": {
        "colab": {
          "base_uri": "https://localhost:8080/"
        },
        "id": "IgNLPdAvT_io",
        "outputId": "5f9549f2-4220-4f40-f9d2-af5b1a748000"
      },
      "execution_count": null,
      "outputs": [
        {
          "output_type": "stream",
          "name": "stdout",
          "text": [
            "Database settings: {'host': 'localhost', 'port': '5432', 'username': 'app_user', 'password': 'secure_password', 'pool_size': '10', 'ssl_enabled': 'true'}\n",
            "Caching enabled: False\n"
          ]
        }
      ]
    },
    {
      "cell_type": "code",
      "source": [
        "import configparser\n",
        "\n",
        "config = configparser.ConfigParser()\n",
        "\n",
        "# Add sections and values\n",
        "config['database'] = {\n",
        "    'host': 'localhost',\n",
        "    'port': '5432',\n",
        "    'username': 'myapp'\n",
        "}\n",
        "\n",
        "config['server'] = {\n",
        "    'host': '0.0.0.0',\n",
        "    'port': '8000',\n",
        "    'debug': 'false'\n",
        "}\n",
        "\n",
        "# Write to file\n",
        "with open('generated.ini', 'w') as configfile:\n",
        "    config.write(configfile)\n",
        "\n",
        "print(\"Configuration file created!\")\n",
        "\n"
      ],
      "metadata": {
        "colab": {
          "base_uri": "https://localhost:8080/"
        },
        "id": "34lmcUxwUFO3",
        "outputId": "03fdf112-df47-4b8c-9062-59c7e222cff8"
      },
      "execution_count": null,
      "outputs": [
        {
          "output_type": "stream",
          "name": "stdout",
          "text": [
            "Configuration file created!\n"
          ]
        }
      ]
    }
  ]
}