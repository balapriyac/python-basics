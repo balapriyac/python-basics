{
  "nbformat": 4,
  "nbformat_minor": 0,
  "metadata": {
    "colab": {
      "provenance": []
    },
    "kernelspec": {
      "name": "python3",
      "display_name": "Python 3"
    },
    "language_info": {
      "name": "python"
    }
  },
  "cells": [
    {
      "cell_type": "code",
      "execution_count": null,
      "metadata": {
        "colab": {
          "base_uri": "https://localhost:8080/"
        },
        "id": "PIzdKksRWvpT",
        "outputId": "9e1f0dcd-141d-4ac0-c01e-621574e97a9a"
      },
      "outputs": [
        {
          "output_type": "stream",
          "name": "stdout",
          "text": [
            "Sarah Chen\n",
            "28\n",
            "<class 'dict'>\n"
          ]
        }
      ],
      "source": [
        "import json\n",
        "\n",
        "json_string = '{\"name\": \"Sarah Chen\", \"age\": 28, \"city\": \"Portland\"}'\n",
        "person = json.loads(json_string)\n",
        "\n",
        "print(person[\"name\"])  # Sarah Chen\n",
        "print(person[\"age\"])   # 28\n",
        "print(type(person))    # <class 'dict'>\n"
      ]
    },
    {
      "cell_type": "code",
      "source": [
        "weather_data = '''\n",
        "{\n",
        "    \"location\": {\n",
        "        \"city\": \"Seattle\",\n",
        "        \"state\": \"WA\",\n",
        "        \"coordinates\": {\n",
        "            \"latitude\": 47.6062,\n",
        "            \"longitude\": -122.3321\n",
        "        }\n",
        "    },\n",
        "    \"current\": {\n",
        "        \"temperature_f\": 58,\n",
        "        \"conditions\": \"Partly Cloudy\",\n",
        "        \"humidity\": 72,\n",
        "        \"wind\": {\n",
        "            \"speed_mph\": 8,\n",
        "            \"direction\": \"NW\"\n",
        "        }\n",
        "    }\n",
        "}\n",
        "'''\n",
        "\n",
        "weather = json.loads(weather_data)\n"
      ],
      "metadata": {
        "id": "dD6mNl59XPYI"
      },
      "execution_count": null,
      "outputs": []
    },
    {
      "cell_type": "code",
      "source": [
        "city = weather[\"location\"][\"city\"]\n",
        "temp = weather[\"current\"][\"temperature_f\"]\n",
        "wind_speed = weather[\"current\"][\"wind\"][\"speed_mph\"]\n",
        "\n",
        "print(f\"{city}: {temp}°F, Wind {wind_speed} mph\")\n"
      ],
      "metadata": {
        "colab": {
          "base_uri": "https://localhost:8080/"
        },
        "id": "Js_gtenRXr-u",
        "outputId": "0e5d8262-7643-40ec-9040-5ffdce3b3065"
      },
      "execution_count": null,
      "outputs": [
        {
          "output_type": "stream",
          "name": "stdout",
          "text": [
            "Seattle: 58°F, Wind 8 mph\n"
          ]
        }
      ]
    },
    {
      "cell_type": "code",
      "source": [
        "products_json = '''\n",
        "[\n",
        "    {\n",
        "        \"id\": \"PROD-001\",\n",
        "        \"name\": \"Wireless Mouse\",\n",
        "        \"price\": 24.99,\n",
        "        \"in_stock\": true\n",
        "    },\n",
        "    {\n",
        "        \"id\": \"PROD-002\",\n",
        "        \"name\": \"Mechanical Keyboard\",\n",
        "        \"price\": 89.99,\n",
        "        \"in_stock\": false\n",
        "    },\n",
        "    {\n",
        "        \"id\": \"PROD-003\",\n",
        "        \"name\": \"USB-C Hub\",\n",
        "        \"price\": 34.99,\n",
        "        \"in_stock\": true\n",
        "    }\n",
        "]\n",
        "'''\n",
        "\n",
        "products = json.loads(products_json)\n"
      ],
      "metadata": {
        "id": "k-Ilchv1XveK"
      },
      "execution_count": null,
      "outputs": []
    },
    {
      "cell_type": "code",
      "source": [
        "print(f\"Total products: {len(products)}\")\n",
        "\n",
        "for product in products:\n",
        "    status = \"Available\" if product[\"in_stock\"] else \"Out of stock\"\n",
        "    print(f\"{product['name']}: ${product['price']} - {status}\")\n"
      ],
      "metadata": {
        "colab": {
          "base_uri": "https://localhost:8080/"
        },
        "id": "sDSMFinXX9Ab",
        "outputId": "8c252ffe-1d76-4d51-a9d2-d56e74ae840c"
      },
      "execution_count": null,
      "outputs": [
        {
          "output_type": "stream",
          "name": "stdout",
          "text": [
            "Total products: 3\n",
            "Wireless Mouse: $24.99 - Available\n",
            "Mechanical Keyboard: $89.99 - Out of stock\n",
            "USB-C Hub: $34.99 - Available\n"
          ]
        }
      ]
    },
    {
      "cell_type": "code",
      "source": [
        "first_product = products[0]\n",
        "print(f\"First product ID: {first_product['id']}\")\n"
      ],
      "metadata": {
        "colab": {
          "base_uri": "https://localhost:8080/"
        },
        "id": "tl3jO7c4X_vT",
        "outputId": "06f6fb03-ce8e-485c-aacf-922be73a8890"
      },
      "execution_count": null,
      "outputs": [
        {
          "output_type": "stream",
          "name": "stdout",
          "text": [
            "First product ID: PROD-001\n"
          ]
        }
      ]
    },
    {
      "cell_type": "code",
      "source": [
        "available_products = [p for p in products if p[\"in_stock\"]]\n",
        "print(f\"Available: {len(available_products)} products\")\n"
      ],
      "metadata": {
        "colab": {
          "base_uri": "https://localhost:8080/"
        },
        "id": "X1sdaoPsauec",
        "outputId": "6cb42481-341f-4167-a5f2-a02c5ed79fa0"
      },
      "execution_count": null,
      "outputs": [
        {
          "output_type": "stream",
          "name": "stdout",
          "text": [
            "Available: 2 products\n"
          ]
        }
      ]
    },
    {
      "cell_type": "code",
      "source": [
        "import json\n",
        "\n",
        "# First, let's create a sample config\n",
        "config_data = {\n",
        "    \"api_url\": \"https://api.example.com/v2\",\n",
        "    \"timeout\": 30,\n",
        "    \"retry_attempts\": 3,\n",
        "    \"enable_logging\": True\n",
        "}\n",
        "\n",
        "with open('config.json', 'w') as f:\n",
        "    json.dump(config_data, f, indent=2)\n"
      ],
      "metadata": {
        "id": "dySmBn0Bayhr"
      },
      "execution_count": 1,
      "outputs": []
    },
    {
      "cell_type": "code",
      "source": [
        "with open('config.json', 'r') as f:\n",
        "    config = json.load(f)\n",
        "\n",
        "print(f\"API URL: {config['api_url']}\")\n",
        "print(f\"Timeout: {config['timeout']} seconds\")\n",
        "print(f\"Logging: {'Enabled' if config['enable_logging'] else 'Disabled'}\")\n"
      ],
      "metadata": {
        "colab": {
          "base_uri": "https://localhost:8080/"
        },
        "id": "r9TNJhTeln3W",
        "outputId": "fe51dfeb-0158-4c68-c473-1e3219e3cfdf"
      },
      "execution_count": 2,
      "outputs": [
        {
          "output_type": "stream",
          "name": "stdout",
          "text": [
            "API URL: https://api.example.com/v2\n",
            "Timeout: 30 seconds\n",
            "Logging: Enabled\n"
          ]
        }
      ]
    },
    {
      "cell_type": "code",
      "source": [
        "import json\n",
        "\n",
        "def parse_json_safely(json_string):\n",
        "    try:\n",
        "        return json.loads(json_string)\n",
        "    except json.JSONDecodeError as e:\n",
        "        print(f\"JSON parsing failed: {e.msg}\")\n",
        "        print(f\"Error at line {e.lineno}, column {e.colno}\")\n",
        "        return None\n"
      ],
      "metadata": {
        "id": "43KnpvtHl5jc"
      },
      "execution_count": 3,
      "outputs": []
    },
    {
      "cell_type": "code",
      "source": [
        "# Missing closing quote\n",
        "bad_json1 = '{\"name\": \"Sarah, \"age\": 28}'\n",
        "result1 = parse_json_safely(bad_json1)\n",
        "print(f\"Result 1: {result1}\\n\")\n",
        "\n",
        "# Missing closing brace\n",
        "bad_json2 = '{\"name\": \"Sarah\", \"age\": 28'\n",
        "result2 = parse_json_safely(bad_json2)\n",
        "print(f\"Result 2: {result2}\\n\")\n",
        "\n",
        "# Extra comma\n",
        "bad_json3 = '{\"name\": \"Sarah\", \"age\": 28,}'\n",
        "result3 = parse_json_safely(bad_json3)\n",
        "print(f\"Result 3: {result3}\\n\")\n",
        "\n",
        "# Valid JSON for comparison\n",
        "good_json = '{\"name\": \"Sarah\", \"age\": 28}'\n",
        "result4 = parse_json_safely(good_json)\n",
        "print(f\"Result 4: {result4}\")\n",
        "\n"
      ],
      "metadata": {
        "colab": {
          "base_uri": "https://localhost:8080/"
        },
        "id": "cF786eEenKM1",
        "outputId": "1a88e4bb-0032-4cf4-c0fd-ab6d8ff3e6a0"
      },
      "execution_count": 4,
      "outputs": [
        {
          "output_type": "stream",
          "name": "stdout",
          "text": [
            "JSON parsing failed: Expecting ',' delimiter\n",
            "Error at line 1, column 19\n",
            "Result 1: None\n",
            "\n",
            "JSON parsing failed: Expecting ',' delimiter\n",
            "Error at line 1, column 28\n",
            "Result 2: None\n",
            "\n",
            "JSON parsing failed: Expecting property name enclosed in double quotes\n",
            "Error at line 1, column 29\n",
            "Result 3: None\n",
            "\n",
            "Result 4: {'name': 'Sarah', 'age': 28}\n"
          ]
        }
      ]
    },
    {
      "cell_type": "code",
      "source": [
        "import json\n",
        "\n",
        "def load_json_file_safely(filepath):\n",
        "    try:\n",
        "        with open(filepath, 'r') as f:\n",
        "            return json.load(f)\n",
        "    except FileNotFoundError:\n",
        "        print(f\"Error: File '{filepath}' not found\")\n",
        "        return None\n",
        "    except PermissionError:\n",
        "        print(f\"Error: Permission denied reading '{filepath}'\")\n",
        "        return None\n",
        "    except json.JSONDecodeError as e:\n",
        "        print(f\"Error: Invalid JSON in '{filepath}'\")\n",
        "        print(f\"  {e.msg} at line {e.lineno}\")\n",
        "        return None\n",
        "\n",
        "data = load_json_file_safely('missing_file.json')\n",
        "if data is None:\n",
        "    print(\"Using default configuration\")\n",
        "    data = {\"timeout\": 30, \"retries\": 3}\n"
      ],
      "metadata": {
        "colab": {
          "base_uri": "https://localhost:8080/"
        },
        "id": "M_ntByyBnPDr",
        "outputId": "d6177c8c-a538-41c8-864e-a028afd08406"
      },
      "execution_count": 5,
      "outputs": [
        {
          "output_type": "stream",
          "name": "stdout",
          "text": [
            "Error: File 'missing_file.json' not found\n",
            "Using default configuration\n"
          ]
        }
      ]
    },
    {
      "cell_type": "code",
      "source": [],
      "metadata": {
        "id": "kck9zj0honQ-"
      },
      "execution_count": null,
      "outputs": []
    }
  ]
}